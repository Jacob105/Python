{
 "cells": [
  {
   "cell_type": "markdown",
   "metadata": {},
   "source": [
    "# Fråga 1"
   ]
  },
  {
   "cell_type": "markdown",
   "metadata": {},
   "source": [
    "I Python så kan man skapa grafiska användargränssnitt (GUI = Graphical User Interface). \n",
    "Ett sådant exempel där biblioteket ”tkinter” används kan du se i mappen ”csv_viewer”. \n",
    "Granska koden, förstå vad som sker och skriv kort ned vad programmet gör. "
   ]
  },
  {
   "cell_type": "markdown",
   "metadata": {},
   "source": [
    "# Svar"
   ]
  },
  {
   "cell_type": "markdown",
   "metadata": {},
   "source": [
    "En kort sammanfattning av vad programmet gör:\n",
    "\n",
    "Läser in CSV-data: En CSV-fil laddas in som en pandas DataFrame (df) och visas sedan i ett tabellformat i applikationen.\n",
    "\n",
    "Skapar ett användargränssnitt: Gränssnittet består av ett fönster där en tabell (Treeview) visar raderna och kolumnerna från CSV-filen. Det finns också en inmatningsruta och knapp för att filtrera datan.\n",
    "\n",
    "Filtrering av data: Användaren kan skriva in en filterregel i formatet \"Kolumn:Värde\", där applikationen sedan filtrerar och visar endast de rader som matchar filtret.\n",
    "\n",
    "Exportering av data: Det finns en funktion för att exportera den filtrerade datan till en ny CSV-fil.\n",
    "\n",
    "Layout och styling: Programmet är utformat med olika stilar och layout-inställningar, inklusive scrollbars för att navigera i datatabellen och automatisk justering av kolumnbredd baserat på innehållet.\n",
    "\n",
    "Sammanfattningsvis är detta ett program som ger användaren möjligheten att visa, filtrera och exportera data från en CSV-fil i ett användarvänligt gränssnitt."
   ]
  },
  {
   "cell_type": "markdown",
   "metadata": {},
   "source": [
    "# Fråga 2"
   ]
  },
  {
   "cell_type": "markdown",
   "metadata": {},
   "source": [
    "### Kapitel 6"
   ]
  },
  {
   "cell_type": "markdown",
   "metadata": {},
   "source": [
    "1. Kolla vilka klasser variablerna a, b, c, och d tillhör genom att använda type() funktionen.\n",
    "   Notera att vi i variablen d har sparat en funktion. Vi hade kunnat anropa den genom att till exempel skriva d(2). "
   ]
  },
  {
   "cell_type": "code",
   "execution_count": 1,
   "metadata": {},
   "outputs": [],
   "source": [
    "a = 10 \n",
    "b = [5, 7, 3] \n",
    "c = {2, 7, 1, 8, 2, 8}\n",
    "\n",
    "def my_fun(x):\n",
    "    return 2*2\n",
    "\n",
    "d = my_fun"
   ]
  },
  {
   "cell_type": "code",
   "execution_count": 2,
   "metadata": {},
   "outputs": [
    {
     "name": "stdout",
     "output_type": "stream",
     "text": [
      "<class 'int'>\n",
      "<class 'list'>\n",
      "<class 'set'>\n",
      "<class 'int'>\n"
     ]
    }
   ],
   "source": [
    "print(type(a))\n",
    "print(type(b))\n",
    "print(type(c))\n",
    "print(type(d(2)))"
   ]
  },
  {
   "cell_type": "markdown",
   "metadata": {},
   "source": [
    "2. a) Kolla om variablen \"my_variable\" är en instans av \"tuple\" klassen genom att använda isinstance() funktionen.\n",
    "   \n",
    "   b) Kolla om variablen \"my_variable\" är en instans av \"list\" klassen genom att använda isinstance() funktionen."
   ]
  },
  {
   "cell_type": "code",
   "execution_count": 3,
   "metadata": {},
   "outputs": [],
   "source": [
    "my_variable = (1, 1, 2, 3, 5)"
   ]
  },
  {
   "cell_type": "code",
   "execution_count": 4,
   "metadata": {},
   "outputs": [
    {
     "data": {
      "text/plain": [
       "True"
      ]
     },
     "execution_count": 4,
     "metadata": {},
     "output_type": "execute_result"
    }
   ],
   "source": [
    "isinstance(my_variable, tuple)"
   ]
  },
  {
   "cell_type": "code",
   "execution_count": 5,
   "metadata": {},
   "outputs": [
    {
     "data": {
      "text/plain": [
       "False"
      ]
     },
     "execution_count": 5,
     "metadata": {},
     "output_type": "execute_result"
    }
   ],
   "source": [
    "isinstance(my_variable, list)"
   ]
  },
  {
   "cell_type": "markdown",
   "metadata": {},
   "source": [
    "3. I denna uppgiften skall du göra följande:\n",
    " \n",
    "   a) Skapa en klass som heter \"FruitProduct\" som har en docstring där det står \"A class representing fruit products in a grocery store.\".\n",
    "   \n",
    "   b) Klassen skall ha instans-attributen \"price\" och \"quantity\". Detta gör du i samband med _\\_\\_init_\\__() .\n",
    "   \n",
    "   c) Instantiera klassen och spara instansen i variablen \"swedish_apples\". Dess pris skall vara 52 och dess kvantitet 1. Det är underförstått att vi menar kronor respektive kg. \n",
    "   \n",
    "   d) Printa ut klassens docstring genom att använda dig av _\\_\\_doc_\\_\\_.\n",
    "   \n",
    "   e) Printa ut attributen från \"swedish_apples\" instansen.\n",
    "   \n",
    "   f) Kolla vilken klass instansen \"swedish_apples\" tillhör genom att använda type() metoden.\n",
    "   \n",
    "   g) Kolla om \"swedish_apples\" tillhör klassen \"FruitProduct\" genom att använda isinstance() metoden."
   ]
  },
  {
   "cell_type": "code",
   "execution_count": 6,
   "metadata": {},
   "outputs": [],
   "source": [
    "class FruitProduct:\n",
    "    \"\"\" A class representing fruit products in a grocery store. \"\"\"\n",
    "    def __init__(self, price, quantity):\n",
    "        self.price = price\n",
    "        self.quantity = quantity"
   ]
  },
  {
   "cell_type": "code",
   "execution_count": 7,
   "metadata": {},
   "outputs": [],
   "source": [
    "swedish_apples = FruitProduct(51, 1)"
   ]
  },
  {
   "cell_type": "code",
   "execution_count": 8,
   "metadata": {},
   "outputs": [
    {
     "name": "stdout",
     "output_type": "stream",
     "text": [
      " A class representing fruit products in a grocery store. \n"
     ]
    }
   ],
   "source": [
    "print(FruitProduct.__doc__)"
   ]
  },
  {
   "cell_type": "code",
   "execution_count": 9,
   "metadata": {},
   "outputs": [
    {
     "name": "stdout",
     "output_type": "stream",
     "text": [
      "Pris: 51 kr\n",
      "Kvantitet: 1 kg\n"
     ]
    }
   ],
   "source": [
    "print(f\"Pris: {swedish_apples.price} kr\")\n",
    "print(f\"Kvantitet: {swedish_apples.quantity} kg\")"
   ]
  },
  {
   "cell_type": "code",
   "execution_count": 10,
   "metadata": {},
   "outputs": [
    {
     "name": "stdout",
     "output_type": "stream",
     "text": [
      "<class '__main__.FruitProduct'>\n"
     ]
    }
   ],
   "source": [
    "print(type(swedish_apples))"
   ]
  },
  {
   "cell_type": "code",
   "execution_count": 11,
   "metadata": {},
   "outputs": [
    {
     "name": "stdout",
     "output_type": "stream",
     "text": [
      "True\n"
     ]
    }
   ],
   "source": [
    "print(isinstance(swedish_apples, FruitProduct))"
   ]
  },
  {
   "cell_type": "markdown",
   "metadata": {},
   "source": [
    "4. Skapa en klass \"Square\" vars instanser har attributet \"side_length\". Skapa två metoder, \"perimeter()\" och \"area()\" där metoderna beräknar omkretsen respektive arean givet längden på kvadraternas sidor som finns i attributet \"side_length\". Skapa en instans \"my_square\" med sidlängden 8. Beräkna omkretsen och arean av \"my_square\" genom att använda de två metoderna som du har skapat. "
   ]
  },
  {
   "cell_type": "code",
   "execution_count": 12,
   "metadata": {},
   "outputs": [],
   "source": [
    "class square():\n",
    "    def __init__(self, side_length):\n",
    "        self.side_length = side_length\n",
    "        \n",
    "    def perimeter(self):\n",
    "            return 4 * self.side_length\n",
    "        \n",
    "    def area(self):\n",
    "            return self.side_length ** 2\n"
   ]
  },
  {
   "cell_type": "code",
   "execution_count": 13,
   "metadata": {},
   "outputs": [],
   "source": [
    "my_square = square(8)"
   ]
  },
  {
   "cell_type": "code",
   "execution_count": 14,
   "metadata": {},
   "outputs": [
    {
     "name": "stdout",
     "output_type": "stream",
     "text": [
      "Perimeter: 32\n",
      "Area: 64\n"
     ]
    }
   ],
   "source": [
    "perimeter = my_square.perimeter()\n",
    "area = my_square.area()\n",
    "\n",
    "print(f\"Perimeter: {perimeter}\")\n",
    "print(f\"Area: {area}\")"
   ]
  },
  {
   "cell_type": "markdown",
   "metadata": {},
   "source": [
    "5. a) Förklara vad nedanstående kod gör.\n",
    "   \n",
    "   b) Prova ändra variabeln L i koden nedan till en tuple och se vad som sker när du kör om all kod. "
   ]
  },
  {
   "cell_type": "markdown",
   "metadata": {},
   "source": [
    "### Svar\n",
    "A) Koden definierar en klass DescriptiveStatistics som hanterar en lista med tal, låter användaren lägga till data, och beräknar samt skriver ut grundläggande deskriptiv statistik: summan, antalet element, och medelvärdet av talen i listan.\n",
    "\n",
    "B) Går inte ändra variabeln L till en tuple, funktionen tar bara emot listor."
   ]
  },
  {
   "cell_type": "code",
   "execution_count": 15,
   "metadata": {},
   "outputs": [],
   "source": [
    "class DescriptiveStatistics():\n",
    "    \"\"\"This class provides functionality for calculating descriptive statistics from a list.\"\"\"\n",
    "    \n",
    "    def __init__(self):\n",
    "        self.data = []\n",
    "    \n",
    "    def add_data(self, data):\n",
    "        if isinstance(data, list):\n",
    "            self.data.extend(data)\n",
    "        else:\n",
    "            # Code below raises an error if the data is not a list. Will be covered in chapter 8 of the book. \n",
    "            raise Exception('Only \"Lists\" are accepted as data.')  \n",
    "            \n",
    "    def calc_sum(self):\n",
    "        return sum(self.data)\n",
    "    \n",
    "    def calc_nbr_of_elements(self):\n",
    "        return len(self.data)\n",
    "    \n",
    "    def calc_mean(self):\n",
    "        return (self.calc_sum())/(self.calc_nbr_of_elements())\n",
    "    \n",
    "    def print_summary(self):\n",
    "        print('Sum:', self.calc_sum())\n",
    "        print('Number of elements:', self.calc_nbr_of_elements())\n",
    "        print('Mean:', self.calc_mean())  "
   ]
  },
  {
   "cell_type": "code",
   "execution_count": 16,
   "metadata": {},
   "outputs": [],
   "source": [
    "L = [1, 2, 1, 3, 5, 7, 4, 9, 10, 3, 2, 1, 6, 4, 3, 2, 1, 10, 9, 1, 8, 7, 3, 2, 1]\n",
    "my_data = DescriptiveStatistics()\n",
    "my_data.add_data(L)"
   ]
  },
  {
   "cell_type": "code",
   "execution_count": 17,
   "metadata": {},
   "outputs": [
    {
     "data": {
      "text/plain": [
       "[1, 2, 1, 3, 5, 7, 4, 9, 10, 3, 2, 1, 6, 4, 3, 2, 1, 10, 9, 1, 8, 7, 3, 2, 1]"
      ]
     },
     "execution_count": 17,
     "metadata": {},
     "output_type": "execute_result"
    }
   ],
   "source": [
    "my_data.data"
   ]
  },
  {
   "cell_type": "code",
   "execution_count": 18,
   "metadata": {},
   "outputs": [
    {
     "name": "stdout",
     "output_type": "stream",
     "text": [
      "Sum: 105\n",
      "Number of elements: 25\n",
      "Mean: 4.2\n"
     ]
    }
   ],
   "source": [
    "print('Sum:', my_data.calc_sum())\n",
    "print('Number of elements:', my_data.calc_nbr_of_elements())\n",
    "print('Mean:', my_data.calc_mean())"
   ]
  },
  {
   "cell_type": "code",
   "execution_count": 19,
   "metadata": {},
   "outputs": [
    {
     "name": "stdout",
     "output_type": "stream",
     "text": [
      "Sum: 105\n",
      "Number of elements: 25\n",
      "Mean: 4.2\n"
     ]
    }
   ],
   "source": [
    "my_data.print_summary()"
   ]
  },
  {
   "cell_type": "markdown",
   "metadata": {},
   "source": [
    "6. a) Skapa en klass som heter BankAccount. Klassen skall ha attributet \"account_holder\" som visar kontoinnehavarens namn samt attributet \"balance\" som visar kontoinnehavarens balans. Klassen skall ha metoden \"deposit()\" för att kunna sätta in pengar på kontot samt metoden \"withdraw()\" för att kunna ta ut pengar från kontot. Om bankinnehavaren försöker ta ut mer pengar än vad som finns på kontot skall meddelandet \"Too low balance\" printas ut.\n",
    "   \n",
    "   b) Skapa en instans av klassen och testa så klassen funkar så som du förväntar dig. Du kan till exempel prova printa ut attributen, sätta in pengar och ta ut pengar. "
   ]
  },
  {
   "cell_type": "code",
   "execution_count": 21,
   "metadata": {},
   "outputs": [],
   "source": [
    "class BankAccount:\n",
    "    def __init__(self, account_holder, balance=0):\n",
    "        self.account_holder = account_holder\n",
    "        self.balance = balance\n",
    "\n",
    "    def deposit(self, amount):\n",
    "        if amount > 0:\n",
    "            self.balance += amount\n",
    "            print(f\"{amount} deposited. New balance is {self.balance}.\")\n",
    "        else:\n",
    "            print(\"Deposit amount must be positive.\")\n",
    "\n",
    "    def withdraw(self, amount):\n",
    "        if amount > self.balance:\n",
    "            print(\"Too low balance\")\n",
    "        elif amount <= 0:\n",
    "            print(\"Withdrawal amount must be positive.\")\n",
    "        else:\n",
    "            self.balance -= amount\n",
    "            print(f\"{amount} withdrawn. New balance is {self.balance}.\")\n"
   ]
  },
  {
   "cell_type": "code",
   "execution_count": 22,
   "metadata": {},
   "outputs": [
    {
     "name": "stdout",
     "output_type": "stream",
     "text": [
      "Account Holder: Jacob\n",
      "Initial Balance: 100\n",
      "50 deposited. New balance is 150.\n",
      "30 withdrawn. New balance is 120.\n",
      "Too low balance\n",
      "Withdrawal amount must be positive.\n"
     ]
    }
   ],
   "source": [
    "# Create an instance BankAccount\n",
    "my_account = BankAccount(\"Jacob\", 100)\n",
    "\n",
    "print(f\"Account Holder: {my_account.account_holder}\")\n",
    "print(f\"Initial Balance: {my_account.balance}\")\n",
    "\n",
    "\n",
    "my_account.deposit(50)\n",
    "my_account.withdraw(30)\n",
    "my_account.withdraw(150)\n",
    "my_account.withdraw(-20)"
   ]
  },
  {
   "cell_type": "markdown",
   "metadata": {},
   "source": [
    "7. Din kollega Adrian frågar dig, vad är klasser för något? Försök förklara detta för Adrian. Använd begreppen instanser, attribut samt metoder i din förklaring. "
   ]
  },
  {
   "cell_type": "markdown",
   "metadata": {},
   "source": [
    "### Svar\n",
    "\n",
    "Klasser är som ritningar för att skapa objekt i programmering. De definierar attribut (data, t.ex. ett namn eller saldo) och metoder (funktioner, t.ex. insättning eller uttag) som objektet kommer att ha. När du skapar ett objekt från en klass kallas det en instans. Varje instans har sina egna värden för attributen men delar samma metoder."
   ]
  },
  {
   "cell_type": "markdown",
   "metadata": {},
   "source": [
    "# Kaptiel 7"
   ]
  },
  {
   "cell_type": "markdown",
   "metadata": {},
   "source": [
    "1. Läs \"PEP 8 – Style Guide for \n",
    "Python Cod\"  och besvaranedanstående frågor.\n",
    " \n",
    "   a) Om du arbetar i ett projekt som har ett internt dokument med \"style guidelines\" där vissa saker går emot vad PEP8 säger. Vad gör du då?\n",
    "\n",
    "   Svar: Använder dom interna riktlinjerna\n",
    "   \n",
    "   b) På vilket språk skall kommentarer generellt sett skrivas.\n",
    "\n",
    "   Svar: Engelska\n",
    "   \n",
    "   c) Hur skall funktioner och variabler namnges?\n",
    "\n",
    "   Svar: I snake_case, små bokstäver med bindesträck som mellanrum och som också beskriver vad vi gör.\n",
    "   \n",
    "   d) Hur skall klasser namnges?\n",
    "\n",
    "   Svar: CamelCase, namnge klassen efter vad den representerar eller gör\n",
    "   \n",
    "   e) Om du i ditt skript importerar exempelvis en modul, vart i skriptet skall koden som utför importen placeras?\n",
    "\n",
    "   Svar: Överst i skriptet\n",
    "   \n",
    "   f) Enligt PEP8, skall man använda enkla ('my_string') eller dubbla (\"my_string\") citattecken för att skapa en sträng?\n",
    "\n",
    "   Svar: Vilken du vill sålänge du är konsekvent.\n",
    "   \n",
    "   g) Vilket av \"Alternativ 1\" och \"Alternativ 2\" nedan är det korrekta sättet att skriva koden på enligt PEP8?\n",
    "   \n",
    "   Svar: Alternativ 1"
   ]
  },
  {
   "cell_type": "code",
   "execution_count": 23,
   "metadata": {},
   "outputs": [],
   "source": [
    "# Alternativ 1\n",
    "a1 = 5 + 2\n",
    "\n",
    "# Alternativ 2\n",
    "a2=5+2"
   ]
  },
  {
   "cell_type": "markdown",
   "metadata": {},
   "source": [
    "2. I \"PEP20 - The Zen of Python\" så står det:\n",
    "   \n",
    "   a) \"Explicit is better than implicit.\" Vad tror du det innebär? Kan du exemplifiera?\n",
    "\n",
    "   Svar: Att man skall vara tydlig i sin kod och inte tro att koden man skriver är underförstådd\n",
    "   \n",
    "   b) \"Simple is better than complex.\" Vad tror du det innebär? Kan du exemplifiera? .\n",
    "   \n",
    "   Svar: Att försöka lösa sitt problem med så simple kod som möjligt."
   ]
  },
  {
   "cell_type": "markdown",
   "metadata": {},
   "source": [
    "3. Du och din nya kollega har en fikapaus och han säger följande: \"Det känns krångligt att vi alla skall behöva följa konventioner och standarder. Är det inte lättare om alla bara skriver kod på det sättet som de vill, sålänge som den fungerar\"? Vad svarar du? \n",
    "\n",
    "Svar: Koden blir tydligare och lättare att förstå om alla följer samma standard, blir lättare att samarbeta, lättare att felsöka koden, blir enkelt att få in nya personer i ett team där alla följer samma standard."
   ]
  },
  {
   "cell_type": "markdown",
   "metadata": {},
   "source": [
    "# Kapitel 8"
   ]
  },
  {
   "cell_type": "markdown",
   "metadata": {},
   "source": [
    "1. Din kollega Johanna frågar dig:\n",
    "   \n",
    "   a) Vad är syntax errors?\n",
    "\n",
    "   Svar: När vi skriver kod som python inte förstår.\n",
    "   \n",
    "   b) Varför skulle man vilja \"fånga exceptions\" i ett program och inte bara låta programmet stanna vid fel?\n",
    "\n",
    "   Svar: Om ett program tar lång tid att köra så vill vi att hela koden körs igenom även om vi får exeptions.\n",
    "   \n",
    "   c) Varför skulle man vilja \"lyfta exceptions\" i ett program?\n",
    "   \n",
    "   Svar: Om processen är kritisk så vill vi stoppa exekveringen innan någon oönskat händer. "
   ]
  },
  {
   "cell_type": "markdown",
   "metadata": {},
   "source": [
    "2. a) Förklara vad nedanstående kod gör.\n",
    "\n",
    "   b) Generellt sett, vad är poängen med att använda \"else\"? "
   ]
  },
  {
   "cell_type": "code",
   "execution_count": 24,
   "metadata": {},
   "outputs": [
    {
     "name": "stdout",
     "output_type": "stream",
     "text": [
      "314\n",
      "Invalid input, cannot convert to integer.\n"
     ]
    }
   ],
   "source": [
    "def convert_string_to_int(string):\n",
    "    try:\n",
    "        int(string)\n",
    "    except ValueError:\n",
    "        return \"Invalid input, cannot convert to integer.\"\n",
    "    else:\n",
    "        return int(string)\n",
    "\n",
    "print(convert_string_to_int(\"314\")) \n",
    "print(convert_string_to_int(\"abc\"))  "
   ]
  },
  {
   "cell_type": "markdown",
   "metadata": {},
   "source": [
    "a) Konventerar en sträng till int, som tillåter siffror i en sträng att konvertara till int oh som ger ett ValueError om man försöker konventera bokstäver i en sträng till int.\n",
    "\n",
    "b) Det minskar risken att vi råkar på en annan exception än den vi försöker fånga."
   ]
  },
  {
   "cell_type": "markdown",
   "metadata": {},
   "source": [
    "3. Skriv ett kodexempel där du fångar en exception. Endast din kreativitet sätter gränser. "
   ]
  },
  {
   "cell_type": "code",
   "execution_count": 25,
   "metadata": {},
   "outputs": [
    {
     "name": "stdout",
     "output_type": "stream",
     "text": [
      "Trying to withdraw $1000...\n",
      "Withdrawal successful! New balance: $0\n",
      "Your current balance is: $0\n"
     ]
    }
   ],
   "source": [
    "class InsufficientFundsError(Exception):\n",
    "    \"\"\"Exception raised for errors in the withdrawal due to insufficient funds.\"\"\"\n",
    "    pass\n",
    "\n",
    "class InvalidAmountError(Exception):\n",
    "    \"\"\"Exception raised for errors in the withdrawal due to invalid amount.\"\"\"\n",
    "    pass\n",
    "\n",
    "class BankAccount:\n",
    "    def __init__(self, balance):\n",
    "        self.balance = balance\n",
    "\n",
    "    def withdraw(self, amount):\n",
    "        if amount <= 0:\n",
    "            raise InvalidAmountError(\"The withdrawal amount must be greater than zero.\")\n",
    "        if amount > self.balance:\n",
    "            raise InsufficientFundsError(\"Insufficient funds for this withdrawal.\")\n",
    "        self.balance -= amount\n",
    "        return self.balance\n",
    "\n",
    "# Create a bank account with a specific balance\n",
    "account = BankAccount(balance=1000)\n",
    "\n",
    "# Attempt to make a withdrawal\n",
    "try:\n",
    "    print(\"Trying to withdraw $1000...\")\n",
    "    new_balance = account.withdraw(1000)\n",
    "    print(f\"Withdrawal successful! New balance: ${new_balance}\")\n",
    "except InsufficientFundsError as e:\n",
    "    print(f\"Transaction failed: {e}\")\n",
    "except InvalidAmountError as e:\n",
    "    print(f\"Transaction failed: {e}\")\n",
    "except Exception as e:\n",
    "    print(f\"An unexpected error occurred: {e}\")\n",
    "finally:\n",
    "    print(f\"Your current balance is: ${account.balance}\")\n"
   ]
  },
  {
   "cell_type": "markdown",
   "metadata": {},
   "source": [
    "4. Skapa en funktion \"add_two_small_numbers\" som adderar två tal. Om något av talen är större än 100 så skall du lyfta en exception och skriva ut meddelandet \"both numbers must be smaller than or equal to 100\". "
   ]
  },
  {
   "cell_type": "code",
   "execution_count": 26,
   "metadata": {},
   "outputs": [
    {
     "name": "stdout",
     "output_type": "stream",
     "text": [
      "Error: Both numbers must be smaller than or equal to 100.\n"
     ]
    }
   ],
   "source": [
    "class NumberTooLargeError(Exception):\n",
    "    \"\"\"Exception raised when one or both numbers are greater than 100.\"\"\"\n",
    "    pass\n",
    "\n",
    "def add_two_small_numbers(a, b):\n",
    "    if a > 100 or b > 100:\n",
    "        raise NumberTooLargeError(\"Both numbers must be smaller than or equal to 100.\")\n",
    "    return a + b\n",
    "\n",
    "# Test the function\n",
    "try:\n",
    "    result = add_two_small_numbers(50, 120)\n",
    "    print(f\"The result is: {result}\")\n",
    "except NumberTooLargeError as e:\n",
    "    print(f\"Error: {e}\")\n"
   ]
  },
  {
   "cell_type": "markdown",
   "metadata": {},
   "source": [
    "5. Din kollega, som är en skicklig programmerare, brukar innan hon försöker göra ett perfekt fungerande program testa olika ideér för att undersöka och lära sig mer om det problem hon försöker lösa. Nedan ser du ett av hennes skript som gjorts i syfte att undersöka och lära sig mer. Förklara vad det är hon gjort. \n",
    "\n",
    "Hon testar först olika beräkningar som kommer att få error samt printar ut vilket type felet har och vad felet är. Sen skapar hon en funktion som heter add_two_numbers som är lite vilseledande eftersom funktionen skall dividera två tal, inte addera. Funktionen fångar upp om man försöker dela med 0 eller om man försöker dela med något som inte är en siffra. "
   ]
  },
  {
   "cell_type": "code",
   "execution_count": 27,
   "metadata": {},
   "outputs": [
    {
     "name": "stdout",
     "output_type": "stream",
     "text": [
      "<class 'TypeError'>\n",
      "unsupported operand type(s) for +: 'int' and 'str'\n"
     ]
    }
   ],
   "source": [
    "# Checking which exception is raised\n",
    "try:\n",
    "    5 + \"Python is fun!\"\n",
    "except Exception as exception_instance:\n",
    "    print(type(exception_instance))\n",
    "    print(exception_instance)"
   ]
  },
  {
   "cell_type": "code",
   "execution_count": 28,
   "metadata": {},
   "outputs": [
    {
     "name": "stdout",
     "output_type": "stream",
     "text": [
      "<class 'ZeroDivisionError'>\n",
      "division by zero\n"
     ]
    }
   ],
   "source": [
    "# Checking which exception is raised\n",
    "try:\n",
    "    5/0\n",
    "except Exception as exception_instance:\n",
    "    print(type(exception_instance))\n",
    "    print(exception_instance)"
   ]
  },
  {
   "cell_type": "code",
   "execution_count": 29,
   "metadata": {},
   "outputs": [],
   "source": [
    "def add_two_numbers(a, b):\n",
    "    try:\n",
    "        return(a/b)\n",
    "    except TypeError:\n",
    "        print(\"Both arguments must be numbers.\")\n",
    "    except ZeroDivisionError:\n",
    "        print(\"Division by zero is not defined.\")        "
   ]
  },
  {
   "cell_type": "code",
   "execution_count": 30,
   "metadata": {},
   "outputs": [
    {
     "name": "stdout",
     "output_type": "stream",
     "text": [
      "2.5\n",
      "Both arguments must be numbers.\n",
      "None\n",
      "Division by zero is not defined.\n",
      "None\n"
     ]
    }
   ],
   "source": [
    "# Testing so the functionality is as expected\n",
    "print(add_two_numbers(5, 2))\n",
    "print(add_two_numbers(5, \"hello\"))\n",
    "print(add_two_numbers(5, 0))"
   ]
  },
  {
   "cell_type": "markdown",
   "metadata": {},
   "source": [
    "# Kapitel 9"
   ]
  },
  {
   "cell_type": "markdown",
   "metadata": {},
   "source": [
    "1. Varför är det generellt sett en god idé att bygga upp tester för sin kod?\n",
    "\n",
    "Svar: För att se till att koden fungerar som den ska, extra viktigt när koden blir mer komplex."
   ]
  },
  {
   "cell_type": "markdown",
   "metadata": {},
   "source": [
    "2. Nedan ser du funktionen multiply_two_numbers. Använd \"doctest\" modulen för att implementera några test för funktionen \"multiply_two_numbers\". \n",
    "Den läsare som önskar kan även implementera testen i modulen \"pytest\". "
   ]
  },
  {
   "cell_type": "code",
   "execution_count": 31,
   "metadata": {},
   "outputs": [
    {
     "data": {
      "text/plain": [
       "TestResults(failed=0, attempted=1)"
      ]
     },
     "execution_count": 31,
     "metadata": {},
     "output_type": "execute_result"
    }
   ],
   "source": [
    "import doctest\n",
    "\n",
    "def multiply_two_numbers(a, b):\n",
    "    \"\"\"Return the product of a and b.\n",
    "    >>> multiply_two_numbers(7, 5)\n",
    "    35\n",
    "    \"\"\"\n",
    "\n",
    "    return a*b\n",
    "\n",
    "doctest.testmod()"
   ]
  },
  {
   "cell_type": "markdown",
   "metadata": {},
   "source": [
    "3. Skriv någon kod eller använd någon kod som du till exempel skrivit i tidigare kapitels uppgifter och implementera några test. Använd \"doctest\" och/eller \"pytest\" modulen. "
   ]
  },
  {
   "cell_type": "code",
   "execution_count": 32,
   "metadata": {},
   "outputs": [
    {
     "name": "stdout",
     "output_type": "stream",
     "text": [
      "**********************************************************************\n",
      "File \"__main__\", line 22, in __main__.BankAccount.withdraw\n",
      "Failed example:\n",
      "    account.withdraw(-100)  # This will raise InvalidAmountError\n",
      "Exception raised:\n",
      "    Traceback (most recent call last):\n",
      "      File \"c:\\Users\\jacob\\anaconda4\\Lib\\doctest.py\", line 1351, in __run\n",
      "        exec(compile(example.source, filename, \"single\",\n",
      "      File \"<doctest __main__.BankAccount.withdraw[3]>\", line 1, in <module>\n",
      "        account.withdraw(-100)  # This will raise InvalidAmountError\n",
      "        ^^^^^^^^^^^^^^^^^^^^^^\n",
      "      File \"C:\\Users\\jacob\\AppData\\Local\\Temp\\ipykernel_26888\\3115526221.py\", line 32, in withdraw\n",
      "        raise InvalidAmountError(\"The withdrawal amount must be greater than zero.\")\n",
      "    InvalidAmountError: The withdrawal amount must be greater than zero.\n",
      "**********************************************************************\n",
      "File \"__main__\", line 26, in __main__.BankAccount.withdraw\n",
      "Failed example:\n",
      "    account.withdraw(1000)  # This will raise InsufficientFundsError\n",
      "Exception raised:\n",
      "    Traceback (most recent call last):\n",
      "      File \"c:\\Users\\jacob\\anaconda4\\Lib\\doctest.py\", line 1351, in __run\n",
      "        exec(compile(example.source, filename, \"single\",\n",
      "      File \"<doctest __main__.BankAccount.withdraw[4]>\", line 1, in <module>\n",
      "        account.withdraw(1000)  # This will raise InsufficientFundsError\n",
      "        ^^^^^^^^^^^^^^^^^^^^^^\n",
      "      File \"C:\\Users\\jacob\\AppData\\Local\\Temp\\ipykernel_26888\\3115526221.py\", line 34, in withdraw\n",
      "        raise InsufficientFundsError(\"Insufficient funds for this withdrawal.\")\n",
      "    InsufficientFundsError: Insufficient funds for this withdrawal.\n",
      "**********************************************************************\n",
      "1 items had failures:\n",
      "   2 of   5 in __main__.BankAccount.withdraw\n",
      "***Test Failed*** 2 failures.\n"
     ]
    },
    {
     "data": {
      "text/plain": [
       "TestResults(failed=2, attempted=6)"
      ]
     },
     "execution_count": 32,
     "metadata": {},
     "output_type": "execute_result"
    }
   ],
   "source": [
    "class InsufficientFundsError(Exception):\n",
    "    \"\"\"Exception raised for errors in the withdrawal due to insufficient funds.\"\"\"\n",
    "    pass\n",
    "\n",
    "class InvalidAmountError(Exception):\n",
    "    \"\"\"Exception raised for errors in the withdrawal due to invalid amount.\"\"\"\n",
    "    pass\n",
    "\n",
    "class BankAccount:\n",
    "    def __init__(self, balance):\n",
    "        self.balance = balance\n",
    "\n",
    "    def withdraw(self, amount):\n",
    "        \"\"\"\n",
    "        Withdraw an amount from the account.\n",
    "\n",
    "        >>> account = BankAccount(1000)\n",
    "        >>> account.withdraw(500)\n",
    "        500\n",
    "        >>> account.withdraw(500)\n",
    "        0\n",
    "        >>> account.withdraw(-100)  # This will raise InvalidAmountError\n",
    "        Traceback (most recent call last):\n",
    "        \n",
    "        InvalidAmountError: The withdrawal amount must be greater than zero.\n",
    "        >>> account.withdraw(1000)  # This will raise InsufficientFundsError\n",
    "        Traceback (most recent call last):\n",
    "        \n",
    "        InsufficientFundsError: Insufficient funds for this withdrawal.\n",
    "        \"\"\"\n",
    "        if amount <= 0:\n",
    "            raise InvalidAmountError(\"The withdrawal amount must be greater than zero.\")\n",
    "        if amount > self.balance:\n",
    "            raise InsufficientFundsError(\"Insufficient funds for this withdrawal.\")\n",
    "        self.balance -= amount\n",
    "        return self.balance\n",
    "    \n",
    "\n",
    "doctest.testmod()\n",
    "\n"
   ]
  },
  {
   "cell_type": "markdown",
   "metadata": {},
   "source": [
    "# Kapitel 10"
   ]
  },
  {
   "cell_type": "markdown",
   "metadata": {},
   "source": [
    "3. Bygg en egen modul som till exempel innehåller två funktioner, importera därefter denna modulen i ett annat skript och prova använd de två funktionerna. Notera att modulen du bygger skall skrivas i ett \"vanligt skript\" (en .py fil) och inte i en jupyter notebook fil (.ipynb). Du kan däremot importera modulen (.py filen) i en jupyter notebook (.ipynb fil).\n",
    "  \n",
    "   Om du önskar importera en jupyter notebook (.ipynb fil) till en annan jupyter notebook (.ipynb fil) så kan du kolla igenom följande smidiga paket: https://pypi.org/project/import-ipynb/ ."
   ]
  },
  {
   "cell_type": "code",
   "execution_count": 38,
   "metadata": {},
   "outputs": [],
   "source": [
    "from min_modul import add\n",
    "from min_modul import subtraction"
   ]
  },
  {
   "cell_type": "code",
   "execution_count": 39,
   "metadata": {},
   "outputs": [
    {
     "data": {
      "text/plain": [
       "11"
      ]
     },
     "execution_count": 39,
     "metadata": {},
     "output_type": "execute_result"
    }
   ],
   "source": [
    "add(6, 5)"
   ]
  },
  {
   "cell_type": "code",
   "execution_count": 40,
   "metadata": {},
   "outputs": [
    {
     "data": {
      "text/plain": [
       "4"
      ]
     },
     "execution_count": 40,
     "metadata": {},
     "output_type": "execute_result"
    }
   ],
   "source": [
    "subtraction(7, 3)"
   ]
  },
  {
   "cell_type": "markdown",
   "metadata": {},
   "source": [
    "# Kapitel 11"
   ]
  },
  {
   "cell_type": "markdown",
   "metadata": {},
   "source": [
    "1. Varför kan loggfiler med information vara viktiga för exempelvis företag och organisationer? \n",
    "\n",
    "Svar: Om man inte kör koden manuellt är det bra att logga alla felmeddelanden som man sedan kan kolla igenom och åtgärda."
   ]
  },
  {
   "cell_type": "markdown",
   "metadata": {},
   "source": [
    "2. Vad menas med att det finns olika nivåer för logg-meddelanden? \n",
    "\n",
    "Svar: Olika allvarlighetsgrad."
   ]
  },
  {
   "cell_type": "markdown",
   "metadata": {},
   "source": [
    "3. Skapa ett valfritt program där du också använder dig av logging modulen. "
   ]
  },
  {
   "cell_type": "code",
   "execution_count": 42,
   "metadata": {},
   "outputs": [],
   "source": [
    "import logging\n",
    "\n",
    "# Configure logging\n",
    "logging.basicConfig(filename='bank_log.log', level=logging.INFO,\n",
    "                    format='%(asctime)s - %(levelname)s - %(message)s')\n",
    "\n",
    "class BankAccount:\n",
    "    def __init__(self, balance=0):\n",
    "        self.balance = balance\n",
    "        logging.info(f'Bank account created with initial balance: {balance} units')\n",
    "\n",
    "    def deposit(self, amount):\n",
    "        if amount > 0:\n",
    "            self.balance += amount\n",
    "            logging.info(f'Deposited {amount} units. New balance: {self.balance} units')\n",
    "        else:\n",
    "            logging.warning(f'Attempted to deposit an invalid amount: {amount} units')\n",
    "\n",
    "    def withdraw(self, amount):\n",
    "        if amount > self.balance:\n",
    "            logging.error(f'Withdrawal attempt exceeds balance: {amount} units, balance: {self.balance} units')\n",
    "        elif amount <= 0:\n",
    "            logging.warning(f'Attempted to withdraw an invalid amount: {amount} units')\n",
    "        else:\n",
    "            self.balance -= amount\n",
    "            logging.info(f'Withdrew {amount} units. New balance: {self.balance} units')\n",
    "\n",
    "    def show_balance(self):\n",
    "        logging.info(f'Account balance: {self.balance} units')\n",
    "        return self.balance\n",
    "\n",
    "# Test the bank account program\n",
    "if __name__ == \"__main__\":\n",
    "    account = BankAccount(500)  # Starting balance of 500 units\n",
    "\n",
    "    account.deposit(200)  # Deposit 200 units\n",
    "    account.withdraw(100)  # Withdraw 100 units\n",
    "    account.withdraw(700)  # Attempt to withdraw more than the available balance\n",
    "    account.deposit(-50)  # Attempt to deposit a negative amount\n",
    "    account.withdraw(0)  # Attempt to withdraw zero units\n"
   ]
  }
 ],
 "metadata": {
  "kernelspec": {
   "display_name": "base",
   "language": "python",
   "name": "python3"
  },
  "language_info": {
   "codemirror_mode": {
    "name": "ipython",
    "version": 3
   },
   "file_extension": ".py",
   "mimetype": "text/x-python",
   "name": "python",
   "nbconvert_exporter": "python",
   "pygments_lexer": "ipython3",
   "version": "3.11.4"
  }
 },
 "nbformat": 4,
 "nbformat_minor": 2
}
